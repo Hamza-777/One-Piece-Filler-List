{
 "cells": [
  {
   "cell_type": "code",
   "execution_count": null,
   "metadata": {},
   "outputs": [],
   "source": [
    "# Import necessary libraries\n",
    "import requests\n",
    "import bs4\n",
    "import json\n",
    "import shutil\n",
    "\n",
    "# Rest of the code\n",
    "result = requests.get(\"https://www.animefillerlist.com/shows/one-piece\")\n",
    "soup = bs4.BeautifulSoup(result.text, 'lxml')\n",
    "\n",
    "numbers = soup.select('td.Number')\n",
    "titles = soup.select('td.Title>a')\n",
    "types = soup.select('td.Type>span')\n",
    "dates = soup.select('td.Date')\n",
    "\n",
    "for i in range(len(numbers)): \n",
    "    numbers[i] = numbers[i].getText()\n",
    "    titles[i] = titles[i].getText()\n",
    "    types[i] = types[i].getText()\n",
    "    dates[i] = dates[i].getText()\n",
    "    \n",
    "onePiece = []\n",
    "for i in range(len(numbers)):\n",
    "    if types[i] == 'Filler':\n",
    "        y = 'red'\n",
    "    else:\n",
    "        y = 'green'\n",
    "    x = {'id': numbers[i], 'title': titles[i], 'type': types[i], 'date': dates[i], 'class': y}\n",
    "    onePiece.append(x)\n",
    "    \n",
    "onePieceJSON = json.dumps(onePiece)\n",
    "\n",
    "f = open('onepiece.json', 'w+')\n",
    "f.write(onePieceJSON)\n",
    "f.close()\n",
    "\n",
    "shutil.move('onepiece.json', 'C:\\\\Users\\\\HAMZA\\\\Desktop\\\\One Piece Filler List\\\\jsons')"
   ]
  }
 ],
 "metadata": {
  "kernelspec": {
   "display_name": "Python 3",
   "language": "python",
   "name": "python3"
  },
  "language_info": {
   "codemirror_mode": {
    "name": "ipython",
    "version": 3
   },
   "file_extension": ".py",
   "mimetype": "text/x-python",
   "name": "python",
   "nbconvert_exporter": "python",
   "pygments_lexer": "ipython3",
   "version": "3.7.0"
  }
 },
 "nbformat": 4,
 "nbformat_minor": 4
}
